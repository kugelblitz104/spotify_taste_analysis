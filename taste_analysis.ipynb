{
 "cells": [
  {
   "cell_type": "code",
   "execution_count": 59,
   "id": "8f15ccd2",
   "metadata": {},
   "outputs": [],
   "source": [
    "import pandas as pd\n",
    "import matplotlib.pyplot as plt\n",
    "import numpy as np\n",
    "import spotipy\n",
    "import os\n",
    "from unidecode import unidecode\n",
    "from spotipy.oauth2 import SpotifyOAuth\n",
    "from dotenv import load_dotenv\n",
    "\n",
    "SEP = '&&'"
   ]
  },
  {
   "cell_type": "code",
   "execution_count": 34,
   "id": "fca1acc9",
   "metadata": {},
   "outputs": [],
   "source": [
    "load_dotenv()\n",
    "\n",
    "sp = spotipy.Spotify(\n",
    "    auth_manager=SpotifyOAuth(\n",
    "        client_id = os.environ['SPOTIFY_CLIENT_ID'],\n",
    "        client_secret = os.environ['SPOTIFY_CLIENT_SECRET'],\n",
    "        redirect_uri='https://example.com/callback',\n",
    "        scope='user-library-read, playlist-read-private'\n",
    "    )\n",
    ")\n",
    "\n",
    "current_user = sp.current_user()\n",
    "\n",
    "user_id = current_user['id']"
   ]
  },
  {
   "cell_type": "code",
   "execution_count": null,
   "id": "674dc5a0",
   "metadata": {},
   "outputs": [
    {
     "name": "stdout",
     "output_type": "stream",
     "text": [
      "0 Blondshell  –  Docket (feat. Bully)\n",
      "1 ZHI16  –  蓄势待发 Locked & Loaded - 界外黎明·登录\n",
      "2 Darren Korb  –  King Vermin\n",
      "3 Wallows  –  Calling After Me\n",
      "4 ROLE MODEL  –  Sally, When The Wine Runs Out\n",
      "5 Queens of the Stone Age  –  I Appear Missing\n",
      "6 Benson Boone  –  Sorry I'm Here For Someone Else\n",
      "7 bbno$  –  antidepressants\n",
      "8 Battle Tapes  –  Valley People\n",
      "9 Nekrogoblikon  –  The Magic Spider\n",
      "10 Gracie Abrams  –  That’s So True\n",
      "11 Chappell Roan  –  Femininomenon\n",
      "12 Lady Gaga  –  Die With A Smile\n",
      "13 Muse  –  Plug in Baby\n",
      "14 Muse  –  Time is Running Out\n",
      "15 AISHA  –  The Disaster of Passion\n",
      "16 bbno$  –  antidepressants\n",
      "17 bbno$  –  check\n",
      "18 bbno$  –  it boy\n",
      "19 bbno$  –  two\n"
     ]
    }
   ],
   "source": [
    "# get 20 most recent saved tracks\n",
    "results = sp.current_user_saved_tracks()\n",
    "for idx, item in enumerate(results['items']):\n",
    "    track = item['track']\n",
    "    print(idx, track['artists'][0]['name'], \" - \", track['name'])"
   ]
  },
  {
   "cell_type": "code",
   "execution_count": null,
   "id": "08a407c8",
   "metadata": {},
   "outputs": [],
   "source": [
    "playlists_headers = ['idx', 'uri', 'id', 'name', 'owner', 'public']\n",
    "track_headers = ['idx', \n",
    "                 'id', 'name'\n",
    "                 'duration_ms', 'explicit',\n",
    "                 'album_name', 'album_type', 'album_id', 'album_uri',\n",
    "                 'artist_names', 'artist_ids',\n",
    "                 ]"
   ]
  },
  {
   "cell_type": "code",
   "execution_count": 26,
   "id": "2002d621",
   "metadata": {},
   "outputs": [],
   "source": [
    "playlists = sp.current_user_playlists(limit=50)"
   ]
  },
  {
   "cell_type": "code",
   "execution_count": null,
   "id": "80f19793",
   "metadata": {},
   "outputs": [],
   "source": [
    "with open('./data/playlists.csv', 'w+') as pf:\n",
    "    pf.write(SEP.join(playlists_headers) + '\\n')\n",
    "    for i, playlist in enumerate([x for x in playlists['items'] if x['owner']['id'] == user_id]):\n",
    "        data = {}\n",
    "        data['idx'] = i + 1 + playlists['offset']\n",
    "        data['name'] = unidecode(playlist['name'])\n",
    "        data['owner'] = playlist['owner']['id']\n",
    "        data = {**data, **{x: playlist[x] for x in playlists_headers if x not in data.keys()}}\n",
    "        s = SEP.join(['{'+ h +'}' for h in playlists_headers])\n",
    "        pf.write(s.format(**data) + '\\n')"
   ]
  },
  {
   "cell_type": "code",
   "execution_count": null,
   "id": "346a94d0",
   "metadata": {},
   "outputs": [],
   "source": [
    "playlists_df = pd.read_csv(\n",
    "    'playlists.csv', \n",
    "    sep=SEP, \n",
    "    engine='python',\n",
    "    index_col='idx'\n",
    ")\n",
    "playlists_df.head()"
   ]
  },
  {
   "cell_type": "code",
   "execution_count": 116,
   "id": "ba442f78",
   "metadata": {},
   "outputs": [],
   "source": [
    "def get_items_dummy(playlist_id: int, limit: int, offset: int= 0):\n",
    "    playlist = range(1,21)\n",
    "    s = playlist[offset:(limit + offset)]\n",
    "    \n",
    "    return {'items': [{'track': {'id': i, 'name': f'track_{i}'}} for i in s], 'offset': offset}\n",
    "    # return {'items': [{'track': {'id': s[i], 'name': f'track_{s[i]}'}} for i in s]}"
   ]
  },
  {
   "cell_type": "code",
   "execution_count": null,
   "id": "5db45567",
   "metadata": {},
   "outputs": [
    {
     "name": "stdout",
     "output_type": "stream",
     "text": [
      "calling get items for playlist 6R8A8V6K8725RaoEWZAFrL\n",
      "1\n",
      "2\n",
      "3\n",
      "4\n",
      "5\n",
      "6\n",
      "7\n",
      "8\n",
      "9\n",
      "10\n",
      "11\n",
      "12\n",
      "13\n",
      "14\n",
      "15\n",
      "16\n",
      "17\n",
      "18\n",
      "19\n",
      "20\n"
     ]
    }
   ],
   "source": [
    "with open('./data/tracks.csv', 'w+') as tf:\n",
    "    # for pid in playlists_df['id']:\n",
    "    pid = '6R8A8V6K8725RaoEWZAFrL'\n",
    "    print(f'calling get items for playlist {pid}')\n",
    "    p_items = get_items_dummy(pid, 50)\n",
    "    while p_items['items']:\n",
    "        for i, track in enumerate([x for x in p_items['items']]):\n",
    "            data = {}\n",
    "            data['idx'] = 1 + i + p_items['offset']\n",
    "            \n",
    "            print(data['idx'])\n",
    "        p_items['items'] = None\n"
   ]
  },
  {
   "cell_type": "code",
   "execution_count": null,
   "id": "c4b5901b",
   "metadata": {},
   "outputs": [],
   "source": []
  }
 ],
 "metadata": {
  "kernelspec": {
   "display_name": ".venv",
   "language": "python",
   "name": "python3"
  },
  "language_info": {
   "codemirror_mode": {
    "name": "ipython",
    "version": 3
   },
   "file_extension": ".py",
   "mimetype": "text/x-python",
   "name": "python",
   "nbconvert_exporter": "python",
   "pygments_lexer": "ipython3",
   "version": "3.11.9"
  }
 },
 "nbformat": 4,
 "nbformat_minor": 5
}
