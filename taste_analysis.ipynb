{
 "cells": [
  {
   "cell_type": "code",
   "execution_count": null,
   "id": "888d821c",
   "metadata": {},
   "outputs": [],
   "source": [
    "# TODO: Artist Distribution w/Number of Unique Artists\n",
    "# TODO: Top 50 artists\n",
    "# TODO: Volume of songs by artists\n",
    "# TODO: Genre Distribution w/Top 50 & bottom 50 \n",
    "# TODO: Songs by Year\n",
    "# TODO: Popularity distribution\n",
    "# TODO: Histogram of song length\n",
    "# TODO: Longest songs\n",
    "# TODO: Shortest songs\n",
    "# TODO: songs by musical features w/distribution\n",
    "# TODO: songs by time signature, key, major vs minor\n",
    "# TODO: odd time signature analysis\n",
    "# TODO: single playlist drill through\n",
    "# TODO: dimensionality reduction of features\n",
    "# TODO: outlier detection\n",
    "# TODO: reccomendation based on what isnt an outlier\n",
    "# TODO: songs close to outliers? "
   ]
  },
  {
   "cell_type": "code",
   "execution_count": null,
   "id": "8f15ccd2",
   "metadata": {},
   "outputs": [],
   "source": [
    "# import libraries\n",
    "import pandas as pd\n",
    "import matplotlib.pyplot as plt\n",
    "import numpy as np\n",
    "import spotipy\n",
    "import os\n",
    "from unidecode import unidecode\n",
    "from spotipy.oauth2 import SpotifyOAuth\n",
    "from dotenv import load_dotenv"
   ]
  },
  {
   "cell_type": "code",
   "execution_count": null,
   "id": "f0bf937c",
   "metadata": {},
   "outputs": [],
   "source": [
    "# delcare constants\n",
    "SEP = '&&'"
   ]
  },
  {
   "cell_type": "code",
   "execution_count": null,
   "id": "fca1acc9",
   "metadata": {},
   "outputs": [],
   "source": [
    "# user auth\n",
    "load_dotenv()\n",
    "\n",
    "sp = spotipy.Spotify(\n",
    "    auth_manager=SpotifyOAuth(\n",
    "        client_id = os.environ['SPOTIFY_CLIENT_ID'],\n",
    "        client_secret = os.environ['SPOTIFY_CLIENT_SECRET'],\n",
    "        redirect_uri='https://example.com/callback',\n",
    "        scope='user-library-read, playlist-read-private'\n",
    "    )\n",
    ")\n",
    "\n",
    "current_user = sp.current_user()\n",
    "\n",
    "user_id = current_user['id']"
   ]
  },
  {
   "cell_type": "code",
   "execution_count": null,
   "id": "674dc5a0",
   "metadata": {},
   "outputs": [],
   "source": [
    "# get 20 most recent saved tracks\n",
    "results = sp.current_user_saved_tracks()\n",
    "for idx, item in enumerate(results['items']):\n",
    "    track = item['track']\n",
    "    print(idx, track['artists'][0]['name'], \" - \", track['name'])"
   ]
  },
  {
   "cell_type": "code",
   "execution_count": null,
   "id": "08a407c8",
   "metadata": {},
   "outputs": [],
   "source": [
    "# set headers for dataframes\n",
    "playlists_headers = ['idx', 'uri', 'id', 'name', 'owner', 'public']\n",
    "track_headers = [\n",
    "    'idx',                  \n",
    "    'id', 'uri', 'name', 'popularity', 'preview_url',\n",
    "    'duration_ms', 'explicit',\n",
    "    'album_name', 'album_type', 'album_id', 'album_uri',\n",
    "    'artists_names', 'artists_ids',\n",
    "]"
   ]
  },
  {
   "cell_type": "code",
   "execution_count": null,
   "id": "2002d621",
   "metadata": {},
   "outputs": [],
   "source": [
    "# get playlists for user\n",
    "playlists = sp.current_user_playlists(limit=50)"
   ]
  },
  {
   "cell_type": "code",
   "execution_count": null,
   "id": "80f19793",
   "metadata": {},
   "outputs": [],
   "source": [
    "# serialize playlists to csv\n",
    "with open('./data/playlists.csv', 'w+') as pf:\n",
    "    pf.write(SEP.join(playlists_headers) + '\\n')\n",
    "    for i, playlist in enumerate([x for x in playlists['items'] if x['owner']['id'] == user_id]):\n",
    "        data = {}\n",
    "        data['idx'] = i + 1 + playlists['offset']\n",
    "        data['name'] = unidecode(playlist['name'])\n",
    "        data['owner'] = playlist['owner']['id']\n",
    "        data = {**data, **{x: playlist[x] for x in playlists_headers if x not in data.keys()}}\n",
    "        s = SEP.join(['{'+ h +'}' for h in playlists_headers])\n",
    "        pf.write(s.format(**data) + '\\n')"
   ]
  },
  {
   "cell_type": "code",
   "execution_count": null,
   "id": "346a94d0",
   "metadata": {},
   "outputs": [],
   "source": [
    "# load playlists into dataframe\n",
    "playlists_df = pd.read_csv(\n",
    "    './data/playlists.csv', \n",
    "    sep=SEP, \n",
    "    engine='python',\n",
    "    index_col='idx'\n",
    ")\n",
    "playlists_df.head()"
   ]
  },
  {
   "cell_type": "code",
   "execution_count": null,
   "id": "5db45567",
   "metadata": {},
   "outputs": [],
   "source": [
    "# serialize tracks from playlists to csv\n",
    "fields= 'href,limit,offset,next,previous,total,items.track(artists,explicit,href,id,name,popularity,preview_url,uri,duration_ms)' + 'items.track.album(album_type,total_tracks,href,id,name,release_date,type,uri)'\n",
    "\n",
    "with open('./data/tracks.csv', 'w+') as tf:\n",
    "    tf.write(SEP.join(track_headers) + '\\n')\n",
    "    for pid in playlists_df['id']:\n",
    "        print(f'calling get items for playlist {pid}')\n",
    "        p_items = sp.playlist_items(playlist_id=pid, fields=fields)\n",
    "        while p_items['items']:\n",
    "            for i, track in enumerate([x['track'] for x in p_items['items']]):\n",
    "                data = {}\n",
    "                data['idx'] = 1 + i + p_items['offset']\n",
    "                album = track['album']\n",
    "                artists = track['artists']\n",
    "                data['album_type'] = album['album_type']\n",
    "                data['album_name'] = unidecode(album['name'])\n",
    "                data['artists_names'] = ', '.join([unidecode(x['name']) for x in artists])\n",
    "                data['artists_ids'] = ','.join([x['id'] for x in artists])\n",
    "                data['name'] = unidecode(track['name'])\n",
    "                data = {**data, **{x: album[x.removeprefix('album_')] for x in track_headers if 'album' in x and x not in data.keys()}}\n",
    "                data = {**data, **{x: track[x] for x in track_headers if x not in data.keys()}}\n",
    "                s = SEP.join(['{'+ h +'}' for h in track_headers])\n",
    "                tf.write(s.format(**data) + '\\n')\n",
    "            if p_items['next']:\n",
    "                p_items = sp.next(p_items)\n",
    "            else:\n",
    "                p_items['items'] = None\n"
   ]
  },
  {
   "cell_type": "code",
   "execution_count": null,
   "id": "c4b5901b",
   "metadata": {},
   "outputs": [],
   "source": [
    "# load tracks into dataframe and drop duplicates\n",
    "tracks_df = pd.read_csv(\n",
    "    './data/tracks.csv', \n",
    "    sep=SEP, \n",
    "    engine='python'\n",
    ")\n",
    "tracks_df = tracks_df.drop_duplicates(subset=['id'])\n",
    "tracks_df.head()"
   ]
  },
  {
   "cell_type": "code",
   "execution_count": null,
   "id": "19caa0a5",
   "metadata": {},
   "outputs": [],
   "source": []
  },
  {
   "cell_type": "code",
   "execution_count": null,
   "id": "c0962d60",
   "metadata": {},
   "outputs": [],
   "source": []
  }
 ],
 "metadata": {
  "kernelspec": {
   "display_name": ".venv",
   "language": "python",
   "name": "python3"
  },
  "language_info": {
   "codemirror_mode": {
    "name": "ipython",
    "version": 3
   },
   "file_extension": ".py",
   "mimetype": "text/x-python",
   "name": "python",
   "nbconvert_exporter": "python",
   "pygments_lexer": "ipython3",
   "version": "3.11.9"
  }
 },
 "nbformat": 4,
 "nbformat_minor": 5
}
