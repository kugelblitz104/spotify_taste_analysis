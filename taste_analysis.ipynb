{
 "cells": [
  {
   "cell_type": "code",
   "execution_count": 26,
   "id": "8f15ccd2",
   "metadata": {},
   "outputs": [],
   "source": [
    "import pandas as pd\n",
    "import matplotlib.pyplot as plt\n",
    "import numpy as np\n",
    "import spotipy\n",
    "import os\n",
    "from spotipy.oauth2 import SpotifyOAuth\n",
    "from dotenv import load_dotenv\n",
    "\n",
    "load_dotenv()\n",
    "\n",
    "sp = spotipy.Spotify(\n",
    "    auth_manager=SpotifyOAuth(\n",
    "        client_id = os.environ['SPOTIFY_CLIENT_ID'],\n",
    "        client_secret = os.environ['SPOTIFY_CLIENT_SECRET'],\n",
    "        redirect_uri='https://example.com/callback',\n",
    "        scope='user-library-read, playlist-read-private'\n",
    "    )\n",
    ")\n",
    "\n",
    "current_user = sp.current_user()\n",
    "\n",
    "user_id = current_user['id']"
   ]
  },
  {
   "cell_type": "code",
   "execution_count": 21,
   "id": "674dc5a0",
   "metadata": {},
   "outputs": [
    {
     "name": "stdout",
     "output_type": "stream",
     "text": [
      "0 Blondshell  –  Docket (feat. Bully)\n",
      "1 ZHI16  –  蓄势待发 Locked & Loaded - 界外黎明·登录\n",
      "2 Darren Korb  –  King Vermin\n",
      "3 Wallows  –  Calling After Me\n",
      "4 ROLE MODEL  –  Sally, When The Wine Runs Out\n",
      "5 Queens of the Stone Age  –  I Appear Missing\n",
      "6 Benson Boone  –  Sorry I'm Here For Someone Else\n",
      "7 bbno$  –  antidepressants\n",
      "8 Battle Tapes  –  Valley People\n",
      "9 Nekrogoblikon  –  The Magic Spider\n",
      "10 Gracie Abrams  –  That’s So True\n",
      "11 Chappell Roan  –  Femininomenon\n",
      "12 Lady Gaga  –  Die With A Smile\n",
      "13 Muse  –  Plug in Baby\n",
      "14 Muse  –  Time is Running Out\n",
      "15 AISHA  –  The Disaster of Passion\n",
      "16 bbno$  –  antidepressants\n",
      "17 bbno$  –  check\n",
      "18 bbno$  –  it boy\n",
      "19 bbno$  –  two\n"
     ]
    }
   ],
   "source": [
    "# get 20 most recent saved tracks\n",
    "results = sp.current_user_saved_tracks()\n",
    "for idx, item in enumerate(results['items']):\n",
    "    track = item['track']\n",
    "    print(idx, track['artists'][0]['name'], \" – \", track['name'])"
   ]
  },
  {
   "cell_type": "code",
   "execution_count": null,
   "id": "80f19793",
   "metadata": {},
   "outputs": [
    {
     "name": "stdout",
     "output_type": "stream",
     "text": [
      "   1 spotify:playlist:6R8A8V6K8725RaoEWZAFrL pookies - False\n",
      "   2 spotify:playlist:5IG2Mu9uGHnqh0NZrsGz7H acetourney - False\n",
      "   3 spotify:playlist:3lGuQn2a9BGDxT1BeduGmk Hades II Singles - False\n",
      "   4 spotify:playlist:1tCDLDdMA990UD1JXDRiJC My Playlist #23 - False\n",
      "   5 spotify:playlist:6iqfLzhWulr3v5q5B8oInG SynthTalk - False\n",
      "   6 spotify:playlist:03VD2NNN9eQBXiaGw3DTOO CRIMBUS - False\n",
      "   7 spotify:playlist:3hl2nCEwXKEbBUNRn90oj5 unsorted - False\n",
      "   8 spotify:playlist:20yuRyvjT0cwcU5H0wcAG7 The Fragrance of Dark Coffee - False\n",
      "   9 spotify:playlist:6cScU2sxQP6hz0OEJ45lLH it's freaking pizza time - False\n",
      "  10 spotify:playlist:6yt5mUEzU3G1IZ8AadVYnh I’m sorry officer, but the laws of the road don’t apply when the guitar solo from Free Bird is on - False\n",
      "  11 spotify:playlist:6uRb2P6XRj5ygnanxpMCfS Rolling Stones Top 500 Songs - False\n",
      "  12 spotify:playlist:5OhGRFA5Tp4sa0vmCqmd1c ROOBEER YEAH - False\n",
      "  13 spotify:playlist:4XuHTvMtzYCa7X5Topj193 snoic - False\n",
      "  14 spotify:playlist:67RQVj45pLwv5Ke3V4dHoZ <3 - False\n",
      "  15 spotify:playlist:71F20kZlgV1sdpRWMUpf5Q colonial jams - False\n",
      "  16 spotify:playlist:2L273zXNshxmjzz3xAxwmP :) - False\n",
      "  17 spotify:playlist:2XYtqWMHRl9R8RaRiz0ECk Innara Madari - False\n",
      "  18 spotify:playlist:2R5LIxTAwran42rZY1uhuL Tazl - False\n",
      "  19 spotify:playlist:3DbzVM500CO9llaYeNxMgo SUPER EUROBEAT MIX - False\n",
      "  20 spotify:playlist:6L6ul2eeL3xL7QcGe6ridB Never hand the persona fan the aux - False\n",
      "  21 spotify:playlist:4e1nB9KfbAcTtHPVLWKj0g Aux Populi - False\n",
      "  22 spotify:playlist:6NeKXYIKjDVCqfCIg9l9J8  - False\n",
      "  23 spotify:playlist:4g6AABokSc0zVx3ojcEzYB sunrise - False\n",
      "  24 spotify:playlist:7o33duxELqc0g43uQiq3g0 Hollow Knight Complete OST - False\n",
      "  25 spotify:playlist:2O2DzYGFtynGzdXLGVHWQo Recommended for You // Obscurify - False\n",
      "  26 spotify:playlist:2HMUnsaH0JRKK14CcipyIK Japanese 80s City Pop - False\n",
      "  27 spotify:playlist:6u5Dg2SFoGj7n2cqBGQ02p uncultured hip hop - False\n",
      "  28 spotify:playlist:2X4VND5hGPc8gj5hZiyRNB VCU Honors Ultimate \"Feel-Good\" Playlist  - False\n",
      "  29 spotify:playlist:1iLWLfHtAVRjgqugA3tVK2 favorites - False\n",
      "  30 spotify:playlist:2euZECZE13kXuJF0PH2Xwn instrumentals mostly - False\n",
      "  31 spotify:playlist:78EzuiDCTBEj2WZEgVC0T4 guilty pleasure - False\n",
      "  32 spotify:playlist:3H6iZclDSeT8MKWIDiBlIu musecore - False\n",
      "  33 spotify:playlist:2Ll6CrJ59Nw0TdfESJADuK max volume - False\n",
      "  34 spotify:playlist:7FU9PQwhRHRpmFUlOWdWhA soft rain - False\n",
      "  35 spotify:playlist:3yT9DGcgbAyiUDsc95jcnl old school - False\n",
      "  36 spotify:playlist:6ixDlVnoP1cK6wBs0NbjL9 nostalgia - False\n",
      "  37 spotify:playlist:7xJQ9IqKik6ZJTkry0hMJI funk - False\n",
      "  38 spotify:playlist:0jLZdUhfIHOFLHGLjXMlAt space - False\n",
      "  39 spotify:playlist:0mniFs5MOzX2zRlwuEZycQ good vibes - False\n"
     ]
    }
   ],
   "source": [
    "playlists = sp.current_user_playlists(limit=50)\n",
    "while playlists:\n",
    "    for i, playlist in enumerate(playlists['items']):\n",
    "        print(f'{i + 1 + playlists['offset']:4d} {playlist['uri']} {playlist['name']}')\n",
    "    if playlists['next']:\n",
    "        playlists = sp.next(playlists)\n",
    "    else:\n",
    "        playlists = None"
   ]
  },
  {
   "cell_type": "code",
   "execution_count": null,
   "id": "152d7a99",
   "metadata": {},
   "outputs": [],
   "source": []
  }
 ],
 "metadata": {
  "kernelspec": {
   "display_name": ".venv",
   "language": "python",
   "name": "python3"
  },
  "language_info": {
   "codemirror_mode": {
    "name": "ipython",
    "version": 3
   },
   "file_extension": ".py",
   "mimetype": "text/x-python",
   "name": "python",
   "nbconvert_exporter": "python",
   "pygments_lexer": "ipython3",
   "version": "3.11.9"
  }
 },
 "nbformat": 4,
 "nbformat_minor": 5
}
